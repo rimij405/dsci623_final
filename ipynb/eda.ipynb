{
 "cells": [
  {
   "cell_type": "markdown",
   "metadata": {
    "slideshow": {
     "slide_type": "fragment"
    }
   },
   "source": [
    "**Copyright 2021 Ian Effendi**\n",
    "\n",
    "```javascript\n",
    "# This Source Code Form is subject to the terms of the Mozilla Public\n",
    "# License, v. 2.0. If a copy of the MPL was not distributed with this\n",
    "# file, You can obtain one at https://mozilla.org/MPL/2.0/.\n",
    "```"
   ]
  },
  {
   "cell_type": "markdown",
   "metadata": {
    "slideshow": {
     "slide_type": "slide"
    }
   },
   "source": [
    "# Exploratory Data Analysis: Spending at Trump Properties\n",
    "\n",
    "```\n",
    "Author: Ian Effendi\n",
    "Date: April 2021\n",
    "Last Updated: April 2021\n",
    "```\n",
    "\n",
    "This is an open source notebook! You can visit the [Github repository](https://github.com/rimij405/dsci623_final) for more information about this project here. In this notebook, we take a look the [dataset](https://www.propublica.org/datastore/dataset/spending-at-trump-properties) on Trump campaign and administration spending compiled by [ProPublica](https://www.propublica.org/).\n",
    "\n",
    "Ultimately, I want to see if there are any valuable insights we can derive from the material."
   ]
  },
  {
   "cell_type": "markdown",
   "metadata": {
    "slideshow": {
     "slide_type": "subslide"
    }
   },
   "source": [
    "## Overview\n",
    "\n",
    "In this notebook, we take a look the [dataset](https://www.propublica.org/datastore/dataset/spending-at-trump-properties) on Trump campaign and administration spending compiled by [ProPublica](https://www.propublica.org/).\n",
    "\n",
    "While there aren't any explicit starting points, we should be able to answer the following questions high-level about the dataset:\n",
    "\n",
    "1. How many records are there in the dataset?\n",
    "2. What features are included in the dataset?"
   ]
  },
  {
   "cell_type": "markdown",
   "metadata": {
    "slideshow": {
     "slide_type": "slide"
    }
   },
   "source": [
    "## Question 1\n",
    "\n",
    "*How many records are there within the dataset?*"
   ]
  },
  {
   "cell_type": "code",
   "execution_count": 1,
   "metadata": {
    "slideshow": {
     "slide_type": "subslide"
    }
   },
   "outputs": [],
   "source": [
    "# Import useful data science packages.\n",
    "%matplotlib inline\n",
    "import matplotlib.pyplot as plt\n",
    "import pandas as pd\n",
    "import numpy as np"
   ]
  },
  {
   "cell_type": "code",
   "execution_count": 2,
   "metadata": {
    "slideshow": {
     "slide_type": "fragment"
    }
   },
   "outputs": [
    {
     "name": "stdout",
     "output_type": "stream",
     "text": [
      "<class 'pandas.core.frame.DataFrame'>\n",
      "RangeIndex: 1193 entries, 0 to 1192\n",
      "Data columns (total 10 columns):\n",
      " #   Column             Non-Null Count  Dtype  \n",
      "---  ------             --------------  -----  \n",
      " 0   type               1193 non-null   object \n",
      " 1   source             1193 non-null   object \n",
      " 2   date               1193 non-null   object \n",
      " 3   amount             1193 non-null   float64\n",
      " 4   purpose_scrubbed   1193 non-null   object \n",
      " 5   property_scrubbed  1193 non-null   object \n",
      " 6   purpose            1182 non-null   object \n",
      " 7   property           1193 non-null   object \n",
      " 8   city               1160 non-null   object \n",
      " 9   state              1158 non-null   object \n",
      "dtypes: float64(1), object(9)\n",
      "memory usage: 93.3+ KB\n"
     ]
    }
   ],
   "source": [
    "# Read data into a pandas dataframe.\n",
    "df = pd.read_csv(\"../src/data.csv\")\n",
    "df.info()"
   ]
  },
  {
   "cell_type": "markdown",
   "metadata": {
    "slideshow": {
     "slide_type": "fragment"
    }
   },
   "source": [
    "We've now established that there are `1193` entries in the entire dataset."
   ]
  },
  {
   "cell_type": "markdown",
   "metadata": {
    "slideshow": {
     "slide_type": "slide"
    }
   },
   "source": [
    "## Question 2\n",
    "\n",
    "*What features are included in the dataset?*"
   ]
  },
  {
   "cell_type": "code",
   "execution_count": 3,
   "metadata": {
    "slideshow": {
     "slide_type": "subslide"
    }
   },
   "outputs": [
    {
     "data": {
      "text/plain": [
       "0                 type\n",
       "1               source\n",
       "2                 date\n",
       "3               amount\n",
       "4     purpose_scrubbed\n",
       "5    property_scrubbed\n",
       "6              purpose\n",
       "7             property\n",
       "8                 city\n",
       "9                state\n",
       "dtype: object"
      ]
     },
     "execution_count": 3,
     "metadata": {},
     "output_type": "execute_result"
    }
   ],
   "source": [
    "# Identify the list of features.\n",
    "features = pd.Series(df.columns)\n",
    "features"
   ]
  },
  {
   "cell_type": "code",
   "execution_count": 4,
   "metadata": {
    "slideshow": {
     "slide_type": "subslide"
    }
   },
   "outputs": [
    {
     "data": {
      "text/plain": [
       "10"
      ]
     },
     "execution_count": 4,
     "metadata": {},
     "output_type": "execute_result"
    }
   ],
   "source": [
    "# Count the number of features.\n",
    "features.count()"
   ]
  },
  {
   "cell_type": "markdown",
   "metadata": {},
   "source": [
    "We've identified `10` unique features for this dataset."
   ]
  },
  {
   "cell_type": "markdown",
   "metadata": {},
   "source": [
    "Now, we can determine details about each unique feature."
   ]
  },
  {
   "cell_type": "code",
   "execution_count": 5,
   "metadata": {},
   "outputs": [],
   "source": [
    "# Find unique values for each feature.\n",
    "unique_features = { col: pd.Series(df[col].sort_values().unique()) for col in features }"
   ]
  },
  {
   "cell_type": "markdown",
   "metadata": {
    "slideshow": {
     "slide_type": "slide"
    }
   },
   "source": [
    "### 1. type\n",
    "\n",
    "`type` contains two unique values: `FEC` and `government`.\n",
    "\n",
    "- `FEC` stands for the Federal Election Commission, representing expenditures by the Trump campaign.\n",
    "- `government` stands for Federal and state agencies, representing expenditures by the Trump administration."
   ]
  },
  {
   "cell_type": "code",
   "execution_count": 6,
   "metadata": {},
   "outputs": [
    {
     "data": {
      "text/plain": [
       "0           FEC\n",
       "1    government\n",
       "dtype: object"
      ]
     },
     "execution_count": 6,
     "metadata": {},
     "output_type": "execute_result"
    }
   ],
   "source": [
    "# List unique values in the 'type' field.\n",
    "unique_features['type']"
   ]
  },
  {
   "cell_type": "code",
   "execution_count": 7,
   "metadata": {},
   "outputs": [
    {
     "data": {
      "text/plain": [
       "count     1193\n",
       "unique       2\n",
       "top        FEC\n",
       "freq       841\n",
       "Name: type, dtype: object"
      ]
     },
     "execution_count": 7,
     "metadata": {},
     "output_type": "execute_result"
    }
   ],
   "source": [
    "# Describe the type list.\n",
    "df['type'].describe()"
   ]
  },
  {
   "cell_type": "markdown",
   "metadata": {
    "slideshow": {
     "slide_type": "slide"
    }
   },
   "source": [
    "### 2. source\n",
    "\n",
    "`source` contains the organization that made the payment. There are `137` unique `source` entries in the dataset."
   ]
  },
  {
   "cell_type": "code",
   "execution_count": 8,
   "metadata": {},
   "outputs": [
    {
     "data": {
      "text/plain": [
       "137"
      ]
     },
     "execution_count": 8,
     "metadata": {},
     "output_type": "execute_result"
    }
   ],
   "source": [
    "# Count the number of unique values.\n",
    "unique_features['source'].count()"
   ]
  },
  {
   "cell_type": "code",
   "execution_count": 9,
   "metadata": {},
   "outputs": [
    {
     "data": {
      "text/plain": [
       "76      Marino for Congress\n",
       "66     Kansans for Marshall\n",
       "67    Kansas Leadership PAC\n",
       "56        Great America PAC\n",
       "15      Citizens for Turner\n",
       "dtype: object"
      ]
     },
     "execution_count": 9,
     "metadata": {},
     "output_type": "execute_result"
    }
   ],
   "source": [
    "# List a random 5 samples of unique values in the 'source' field.\n",
    "unique_features['source'].sample(n=5)"
   ]
  },
  {
   "cell_type": "code",
   "execution_count": 10,
   "metadata": {
    "scrolled": true
   },
   "outputs": [
    {
     "data": {
      "text/plain": [
       "count                                    1193\n",
       "unique                                    137\n",
       "top       Donald J. Trump for President, Inc.\n",
       "freq                                      493\n",
       "Name: source, dtype: object"
      ]
     },
     "execution_count": 10,
     "metadata": {},
     "output_type": "execute_result"
    }
   ],
   "source": [
    "# Describe the source\n",
    "df['source'].describe()"
   ]
  },
  {
   "cell_type": "markdown",
   "metadata": {},
   "source": [
    "Some important information to keep in mind here:\n",
    "\n",
    "- The most frequent payer source is Donald J. Trump for President, Inc. with 493 transactions.\n",
    "- There are `137` unique `source` entries in the dataset.\n",
    "- A uniform distribution would have meant roughly ~8 transactions per source - we know our data will be skewed."
   ]
  },
  {
   "cell_type": "markdown",
   "metadata": {
    "slideshow": {
     "slide_type": "slide"
    }
   },
   "source": [
    "### 3. date\n",
    "\n",
    "`date` contains the transaction date."
   ]
  },
  {
   "cell_type": "code",
   "execution_count": 11,
   "metadata": {},
   "outputs": [
    {
     "data": {
      "text/plain": [
       "508    Sep 7, 2017\n",
       "509    Sep 8, 2016\n",
       "510    Sep 8, 2017\n",
       "511    Sep 9, 2016\n",
       "512      undefined\n",
       "dtype: object"
      ]
     },
     "execution_count": 11,
     "metadata": {},
     "output_type": "execute_result"
    }
   ],
   "source": [
    "# Print last five dates out.\n",
    "unique_features['date'].tail(5)"
   ]
  },
  {
   "cell_type": "markdown",
   "metadata": {},
   "source": [
    "Here, we identify `513` unique date entries, where `undefined` is one of them."
   ]
  },
  {
   "cell_type": "code",
   "execution_count": 12,
   "metadata": {},
   "outputs": [
    {
     "data": {
      "text/plain": [
       "count             1193\n",
       "unique             513\n",
       "top       Apr 28, 2017\n",
       "freq                22\n",
       "Name: date, dtype: object"
      ]
     },
     "execution_count": 12,
     "metadata": {},
     "output_type": "execute_result"
    }
   ],
   "source": [
    "df['date'].describe()"
   ]
  },
  {
   "cell_type": "markdown",
   "metadata": {},
   "source": [
    "Notice how the `dtype` is `object`. Our `DataFrame` won't sort our dates by their values, instead treating them like plain strings. We should convert this value into the `datetime` format, so that we can make comparisons with the value of a given date, as well as perform numeric calculations based on the `datetime` value."
   ]
  },
  {
   "cell_type": "code",
   "execution_count": 13,
   "metadata": {},
   "outputs": [
    {
     "data": {
      "text/plain": [
       "0      2015-04-30\n",
       "1      2015-05-05\n",
       "2      2015-06-16\n",
       "3      2015-06-16\n",
       "4      2015-06-16\n",
       "          ...    \n",
       "1188          NaT\n",
       "1189          NaT\n",
       "1190          NaT\n",
       "1191          NaT\n",
       "1192   2017-01-24\n",
       "Name: date, Length: 1193, dtype: datetime64[ns]"
      ]
     },
     "execution_count": 13,
     "metadata": {},
     "output_type": "execute_result"
    }
   ],
   "source": [
    "# Convert column to date time.\n",
    "df['date'] = pd.to_datetime(df['date'], format='%b %d, %Y', errors='coerce')\n",
    "df['date']"
   ]
  },
  {
   "cell_type": "code",
   "execution_count": 14,
   "metadata": {},
   "outputs": [
    {
     "data": {
      "text/plain": [
       "0     2015-04-30\n",
       "1     2015-05-03\n",
       "2     2015-05-05\n",
       "3     2015-06-16\n",
       "4     2015-06-17\n",
       "         ...    \n",
       "508   2018-05-01\n",
       "509   2018-05-02\n",
       "510   2018-05-03\n",
       "511   2018-05-08\n",
       "512          NaT\n",
       "Length: 513, dtype: datetime64[ns]"
      ]
     },
     "execution_count": 14,
     "metadata": {},
     "output_type": "execute_result"
    }
   ],
   "source": [
    "unique_features['date'] = pd.Series(df['date'].sort_values().unique())\n",
    "unique_features['date']"
   ]
  },
  {
   "cell_type": "markdown",
   "metadata": {
    "slideshow": {
     "slide_type": "slide"
    }
   },
   "source": [
    "### 4. amount\n",
    "\n",
    "`amount` contains the transaction amount."
   ]
  },
  {
   "cell_type": "code",
   "execution_count": 15,
   "metadata": {},
   "outputs": [
    {
     "data": {
      "text/plain": [
       "count      1193.00\n",
       "mean      13483.58\n",
       "std       70755.00\n",
       "min      -11541.20\n",
       "25%         174.04\n",
       "50%         662.99\n",
       "75%        2679.33\n",
       "max     1271944.00\n",
       "Name: amount, dtype: float64"
      ]
     },
     "execution_count": 15,
     "metadata": {},
     "output_type": "execute_result"
    }
   ],
   "source": [
    "# Display info.\n",
    "pd.set_option('display.float_format', lambda x: '%.2f' % x)\n",
    "df['amount'].describe()"
   ]
  },
  {
   "cell_type": "markdown",
   "metadata": {},
   "source": [
    "Positive amounts are payments from the `source` payer to the `property` payee. Negative amounts are likely refunds.\n",
    "\n",
    "Of note, the largest payment was $\\$1,271,944.00$ and the smallest was $\\$11,541.20$."
   ]
  },
  {
   "cell_type": "markdown",
   "metadata": {
    "slideshow": {
     "slide_type": "slide"
    }
   },
   "source": [
    "### 5. purpose_scrubbed\n",
    "\n",
    "The `purpose_scrubbed` is the reason for the transaction. These classification labels were picked by ProPublica to categorize the values in the `purpose` feature."
   ]
  },
  {
   "cell_type": "code",
   "execution_count": 16,
   "metadata": {},
   "outputs": [
    {
     "data": {
      "text/plain": [
       "0      Event\n",
       "1       Food\n",
       "2      Legal\n",
       "3    Lodging\n",
       "4      Other\n",
       "5    Payroll\n",
       "6       Rent\n",
       "7     Travel\n",
       "dtype: object"
      ]
     },
     "execution_count": 16,
     "metadata": {},
     "output_type": "execute_result"
    }
   ],
   "source": [
    "# List unique `purpose_scrubbed` items.\n",
    "unique_features['purpose_scrubbed']"
   ]
  },
  {
   "cell_type": "markdown",
   "metadata": {},
   "source": [
    "There are `8` unique `purpose_scrubbed` entries."
   ]
  },
  {
   "cell_type": "code",
   "execution_count": 17,
   "metadata": {},
   "outputs": [
    {
     "data": {
      "text/plain": [
       "count        1193\n",
       "unique          8\n",
       "top       Lodging\n",
       "freq          438\n",
       "Name: purpose_scrubbed, dtype: object"
      ]
     },
     "execution_count": 17,
     "metadata": {},
     "output_type": "execute_result"
    }
   ],
   "source": [
    "# Describe the feature.\n",
    "df['purpose_scrubbed'].describe()"
   ]
  },
  {
   "cell_type": "markdown",
   "metadata": {},
   "source": [
    "`Lodging` is the most frequent `purpose_scrubbed` with `438` transactions associated with the purpose."
   ]
  },
  {
   "cell_type": "markdown",
   "metadata": {
    "slideshow": {
     "slide_type": "slide"
    }
   },
   "source": [
    "### 6. property_scrubbed\n",
    "\n",
    "The `property_scrubbed` is the `payee` institution receiving payment."
   ]
  },
  {
   "cell_type": "code",
   "execution_count": 18,
   "metadata": {},
   "outputs": [
    {
     "data": {
      "text/plain": [
       "0                          BLT Prime D.C\n",
       "1              Benjamin Bar & Lounge D.C\n",
       "2     Eric Trump Wine Manufacturing, LLC\n",
       "3                    Mar-a-Lago Club LLC\n",
       "4                                  Other\n",
       "5                          Tag Air, Inc.\n",
       "6                  The Trump Corporation\n",
       "7                          Trump CPS LLC\n",
       "8                          Trump Cafe NY\n",
       "9                        Trump Golf Club\n",
       "10            Trump Golf Club Bedminster\n",
       "11          Trump Golf Club Bedminster  \n",
       "12             Trump Golf Club Charlotte\n",
       "13                   Trump Golf Club D.C\n",
       "14                  Trump Golf Club D.C.\n",
       "15              Trump Golf Club Doonberg\n",
       "16               Trump Golf Club Jupiter\n",
       "17                  Trump Golf Club L.A.\n",
       "18                 Trump Golf Club Miami\n",
       "19            Trump Golf Club Palm Beach\n",
       "20           Trump Golf Club Westchester\n",
       "21            Trump Golf Resort Scotland\n",
       "22                        Trump Grill NY\n",
       "23                   Trump Hotel Chicago\n",
       "24                       Trump Hotel D.C\n",
       "25                      Trump Hotel D.C.\n",
       "26                  Trump Hotel Honolulu\n",
       "27                 Trump Hotel Las Vegas\n",
       "28                        Trump Hotel NY\n",
       "29                    Trump Hotel Panama\n",
       "30                 Trump Hotel Vancouver\n",
       "31                         Trump Ice LLC\n",
       "32                    Trump Payroll Corp\n",
       "33                       Trump Plaza LLC\n",
       "34                 Trump Restaurants LLC\n",
       "35                         Trump Soho NY\n",
       "36            Trump Tower Commercial LLC\n",
       "37      Trump Virginia Acquisitions, LLC\n",
       "dtype: object"
      ]
     },
     "execution_count": 18,
     "metadata": {},
     "output_type": "execute_result"
    }
   ],
   "source": [
    "# List last 5 unique `property_scrubbed` items.\n",
    "unique_features['property_scrubbed']"
   ]
  },
  {
   "cell_type": "markdown",
   "metadata": {},
   "source": [
    "There are `38` unique `property_scrubbed` items. Like `purpose_scrubbed`, these are categorization labels that apply to the values found in the unscrubbed feature - in this case, for `property`.\n",
    "\n",
    "But look closely at the list - there's a couple hidden duplicates lying about."
   ]
  },
  {
   "cell_type": "code",
   "execution_count": 19,
   "metadata": {},
   "outputs": [
    {
     "data": {
      "text/plain": [
       "count                1193\n",
       "unique                 38\n",
       "top       Trump Hotel D.C\n",
       "freq                  197\n",
       "Name: property_scrubbed, dtype: object"
      ]
     },
     "execution_count": 19,
     "metadata": {},
     "output_type": "execute_result"
    }
   ],
   "source": [
    "# Describe the feature.\n",
    "df['property_scrubbed'].describe()"
   ]
  },
  {
   "cell_type": "markdown",
   "metadata": {},
   "source": [
    "`Trump Hotel D.C` is the most common `property_scrubbed` item but it definitely will have some sort of impact on the dataset. Some `property_scrubbed` entries for `D.C.` don't consistently place the second punctuation mark, so duplicates go untreated."
   ]
  },
  {
   "cell_type": "code",
   "execution_count": 20,
   "metadata": {},
   "outputs": [
    {
     "data": {
      "text/plain": [
       "count                 1193\n",
       "unique                  36\n",
       "top       Trump Hotel D.C.\n",
       "freq                   267\n",
       "Name: property_scrubbed, dtype: object"
      ]
     },
     "execution_count": 20,
     "metadata": {},
     "output_type": "execute_result"
    }
   ],
   "source": [
    "# First, find all rows that match the 'D.C' prompt.\n",
    "df['property_scrubbed'] = df['property_scrubbed'].replace({\n",
    "    \"Trump Hotel D.C\": \"Trump Hotel D.C.\",\n",
    "    \"Trump Golf Club D.C\": \"Trump Golf Club D.C.\",\n",
    "    \"Benjamin Bar & Lounge D.C\": \"Benjamin Bar & Lounge D.C.\",\n",
    "    \"BLT Prime D.C\": \"BLT Prime D.C.\"\n",
    "})\n",
    "df['property_scrubbed'].describe()"
   ]
  },
  {
   "cell_type": "markdown",
   "metadata": {},
   "source": [
    "After cleaning the feature, there are `36` unique scrubbed properties and the most frequent property is `Trump Hotel D.C.`."
   ]
  },
  {
   "cell_type": "markdown",
   "metadata": {
    "slideshow": {
     "slide_type": "slide"
    }
   },
   "source": [
    "### 7. purpose\n",
    "\n",
    "Various, unscrubbed `purpose` data."
   ]
  },
  {
   "cell_type": "code",
   "execution_count": 21,
   "metadata": {},
   "outputs": [
    {
     "data": {
      "text/plain": [
       "0                                     002 Travel Parking\n",
       "1      1ST BANKCARD PMT [SB21B.15922]: EVENT EXPENSE:...\n",
       "2      1ST BANKCARD PMT [SB21B.15922]: FUNDRAISING EX...\n",
       "3      1ST BANKCARD PMT [SB21B.18545]: EVENT EXPENSE:...\n",
       "4        1ST BANKCARD PMT [SB21B.19723]: MEETING EXPENSE\n",
       "                             ...                        \n",
       "228                                      meeting expense\n",
       "229                               political contribution\n",
       "230                                 staff retreat dinner\n",
       "231                                               travel\n",
       "232                                                  NaN\n",
       "Length: 233, dtype: object"
      ]
     },
     "execution_count": 21,
     "metadata": {},
     "output_type": "execute_result"
    }
   ],
   "source": [
    "unique_features['purpose']"
   ]
  },
  {
   "cell_type": "markdown",
   "metadata": {},
   "source": [
    "The `purpose` feature would be useful if we were to require a predictive model that determines an output `purpose_scrubbed` classification."
   ]
  },
  {
   "cell_type": "code",
   "execution_count": 22,
   "metadata": {},
   "outputs": [
    {
     "data": {
      "text/plain": [
       "count               1182\n",
       "unique               232\n",
       "top       Hotels-Lodging\n",
       "freq                 201\n",
       "Name: purpose, dtype: object"
      ]
     },
     "execution_count": 22,
     "metadata": {},
     "output_type": "execute_result"
    }
   ],
   "source": [
    "df['purpose'].describe()"
   ]
  },
  {
   "cell_type": "markdown",
   "metadata": {
    "slideshow": {
     "slide_type": "slide"
    }
   },
   "source": [
    "### 8. property\n",
    "\n",
    "Various, unscrubbed `property` data."
   ]
  },
  {
   "cell_type": "code",
   "execution_count": 23,
   "metadata": {},
   "outputs": [
    {
     "data": {
      "text/plain": [
       "0           BENJAMIN BAR & LOUNGE\n",
       "1         BENJAMIN BAR AND LOUNGE\n",
       "2                             BLT\n",
       "3                       BLT PRIME\n",
       "4        BLT PRIME BY DAVID BURKE\n",
       "                  ...            \n",
       "112                    Trump Soho\n",
       "113                   Trump Tower\n",
       "114    Trump Tower Hotel New York\n",
       "115               Trump Turnberry\n",
       "116                 Wollman Rink \n",
       "Length: 117, dtype: object"
      ]
     },
     "execution_count": 23,
     "metadata": {},
     "output_type": "execute_result"
    }
   ],
   "source": [
    "unique_features['property']"
   ]
  },
  {
   "cell_type": "code",
   "execution_count": 24,
   "metadata": {},
   "outputs": [
    {
     "data": {
      "text/plain": [
       "count                                    1193\n",
       "unique                                    117\n",
       "top       Trump International Hotel Las Vegas\n",
       "freq                                      128\n",
       "Name: property, dtype: object"
      ]
     },
     "execution_count": 24,
     "metadata": {},
     "output_type": "execute_result"
    }
   ],
   "source": [
    "df['property'].describe()"
   ]
  },
  {
   "cell_type": "markdown",
   "metadata": {},
   "source": [
    "Interestingly, the unscrubbed field reports the `Trump International Hotel Las Vegas` as the most common `property`, but our `property_scrubbed` suggests that `Trump Hotel D.C.` is the most common."
   ]
  },
  {
   "cell_type": "code",
   "execution_count": 25,
   "metadata": {},
   "outputs": [
    {
     "data": {
      "text/plain": [
       "0                             TRUMP OLD POST OFFICE LLC\n",
       "1                             TRUMP INTERNATIONAL HOTEL\n",
       "2                  TRUMP INTERNATIONAL HOTEL WASHINGTON\n",
       "3               TRUMP INTERNATIONAL HOTEL WASHINGTON DC\n",
       "4                                  THE TRUMP INTL HOTEL\n",
       "5                             Trump International Hotel\n",
       "6                  Trump International Hotel Washington\n",
       "7                                           Trump Hotel\n",
       "8     TRUMP INTERNATIONAL HOTEL WDC                 ...\n",
       "9                          Trump International Hotel DC\n",
       "10                            OPO LOUNGE AT TRUMP HOTEL\n",
       "11           TRUMP INTERNATIONAL HOTEL WASHINGTON, D.C.\n",
       "12                                TRUMP OLD POST OFFICE\n",
       "13                        TRUMP INTERNATIONAL HOTEL WDC\n",
       "14                                    TRUMP INT'L HOTEL\n",
       "15                                          TRUMP HOTEL\n",
       "16                 TRUMP INTERNATIONAL HOTEL RESTAURANT\n",
       "17            Trump International Hotel - Washington DC\n",
       "18                                  Trump International\n",
       "19                             TRUMP INTERNATONAL HOTEL\n",
       "20            Trump International Hotel Washington D.C.\n",
       "21           Trump International Hotel Washington, D.C.\n",
       "dtype: object"
      ]
     },
     "execution_count": 25,
     "metadata": {},
     "output_type": "execute_result"
    }
   ],
   "source": [
    "# Search for all property_scrubbed entries containing D.C. and select their property fields.\n",
    "dc_properties = pd.Series(df[df['property_scrubbed'].str.contains('Hotel D.C.')]['property'].unique())\n",
    "dc_properties"
   ]
  },
  {
   "cell_type": "markdown",
   "metadata": {},
   "source": [
    "There are some interesting things at play here. At first glance, someone reading the transaction details might wonder why `TRUMP OLD POST OFFICE` (and similar variations) were classified as `Trump Hotel D.C.`.\n",
    "\n",
    "The answer isn't immediately clear but a quick search turns up a [Wikipedia entry](https://en.wikipedia.org/wiki/Old_Post_Office_(Washington,_D.C.)) with this information:\n",
    "\n",
    "> In 2013, the U.S. General Services Administration (GSA) leased the property for 60 years to a consortium headed by \"DJT Holdings LLC\", a holding company that Donald Trump owns through a revocable trust. Trump developed the property into a luxury hotel, the Trump International Hotel Washington, D.C., which opened in September 2016."
   ]
  },
  {
   "cell_type": "markdown",
   "metadata": {
    "slideshow": {
     "slide_type": "slide"
    }
   },
   "source": [
    "### 9. city\n",
    "\n",
    "The city supposedly refers to the location where the transaction took place."
   ]
  },
  {
   "cell_type": "code",
   "execution_count": 26,
   "metadata": {},
   "outputs": [
    {
     "data": {
      "text/plain": [
       "0             561-8322600\n",
       "1             Bedminister\n",
       "2              Bedminster\n",
       "3               Bradenton\n",
       "4        Briarcliff Manor\n",
       "5         Charlottesville\n",
       "6                 Chicago\n",
       "7                Doonberg\n",
       "8                   Doral\n",
       "9              Hicksville\n",
       "10               Honolulu\n",
       "11                Jupiter\n",
       "12              Lafayette\n",
       "13             Las Veagas\n",
       "14              Las Vegas\n",
       "15                  Miami\n",
       "16            Mooresville\n",
       "17            Moorseville\n",
       "18               New York\n",
       "19             Palm Beach\n",
       "20            Panama City\n",
       "21          Potomac Falls\n",
       "22           Rancho Palos\n",
       "23    Rancho Palos Verdes\n",
       "24            S61-8322600\n",
       "25          San Francisco\n",
       "26               Sterling\n",
       "27              Turnberry\n",
       "28              Vancouver\n",
       "29             Washington\n",
       "30        West Palm Beach\n",
       "31                    NaN\n",
       "dtype: object"
      ]
     },
     "execution_count": 26,
     "metadata": {},
     "output_type": "execute_result"
    }
   ],
   "source": [
    "# Display unique feature values.\n",
    "unique_features['city']"
   ]
  },
  {
   "cell_type": "code",
   "execution_count": 27,
   "metadata": {},
   "outputs": [
    {
     "data": {
      "text/plain": [
       "count           1160\n",
       "unique            31\n",
       "top       Washington\n",
       "freq             350\n",
       "Name: city, dtype: object"
      ]
     },
     "execution_count": 27,
     "metadata": {},
     "output_type": "execute_result"
    }
   ],
   "source": [
    "# Display feature description.\n",
    "df['city'].describe()"
   ]
  },
  {
   "cell_type": "markdown",
   "metadata": {},
   "source": [
    "There are some confusing entries and typos in the `city` feature. Here is a list of the issues I could find:\n",
    "\n",
    "- `561-8322600` isn't a city, but it could be a telephone number. Could we use the zipcode to solve our missing city dilemma?\n",
    "- `561-8322600` and `S61-8322600` are close enough to be related. Which is the typo?\n",
    "- `Bedminister` vs. `Bedminster`\n",
    "- `Las Veagas` vs. `Las Vegas`\n",
    "- `Moorseville` vs. `Mooresville`\n",
    "- `NaN` entries could have states or it could refer to a place like `Washington D.C.`.\n",
    "- Does `Washington` refer to `Washington State` or `Washington D.C.`? Or is it (in the worst case) referring to both?"
   ]
  },
  {
   "cell_type": "markdown",
   "metadata": {},
   "source": [
    "Let's use the state field in order to check where each of our problem states are from."
   ]
  },
  {
   "cell_type": "code",
   "execution_count": 28,
   "metadata": {},
   "outputs": [],
   "source": [
    "# Create lookup table of city, state.\n",
    "city_state = df[['city', 'state']]\n",
    "\n",
    "# Service method to facilitate similarity searches easily.\n",
    "def is_similar(table, feature, term, case=False, na=False):\n",
    "    return table[feature].str.contains(term, case=case, na=na)"
   ]
  },
  {
   "cell_type": "code",
   "execution_count": 29,
   "metadata": {},
   "outputs": [
    {
     "data": {
      "text/plain": [
       "array(['Bedminster', 'Bedminister'], dtype=object)"
      ]
     },
     "execution_count": 29,
     "metadata": {},
     "output_type": "execute_result"
    }
   ],
   "source": [
    "# Bedminister vs. Bedminster\n",
    "city_state[is_similar(city_state, 'city', 'Bedmin')]['city'].unique()"
   ]
  },
  {
   "cell_type": "code",
   "execution_count": 30,
   "metadata": {},
   "outputs": [
    {
     "data": {
      "text/plain": [
       "array(['Las Vegas', 'Las Veagas'], dtype=object)"
      ]
     },
     "execution_count": 30,
     "metadata": {},
     "output_type": "execute_result"
    }
   ],
   "source": [
    "# Las Vaegas vs. Las Vegas\n",
    "city_state[is_similar(city_state, 'city', 'Las Vea?gas')]['city'].unique()"
   ]
  },
  {
   "cell_type": "code",
   "execution_count": 31,
   "metadata": {},
   "outputs": [
    {
     "data": {
      "text/plain": [
       "array(['Moorseville', 'Mooresville'], dtype=object)"
      ]
     },
     "execution_count": 31,
     "metadata": {},
     "output_type": "execute_result"
    }
   ],
   "source": [
    "# Moorseville vs. Mooresville\n",
    "city_state[is_similar(city_state, 'city', 'Moor.[es]ville')]['city'].unique()"
   ]
  },
  {
   "cell_type": "code",
   "execution_count": 32,
   "metadata": {},
   "outputs": [
    {
     "data": {
      "text/html": [
       "<div>\n",
       "<style scoped>\n",
       "    .dataframe tbody tr th:only-of-type {\n",
       "        vertical-align: middle;\n",
       "    }\n",
       "\n",
       "    .dataframe tbody tr th {\n",
       "        vertical-align: top;\n",
       "    }\n",
       "\n",
       "    .dataframe thead th {\n",
       "        text-align: right;\n",
       "    }\n",
       "</style>\n",
       "<table border=\"1\" class=\"dataframe\">\n",
       "  <thead>\n",
       "    <tr style=\"text-align: right;\">\n",
       "      <th></th>\n",
       "      <th>city</th>\n",
       "      <th>state</th>\n",
       "    </tr>\n",
       "  </thead>\n",
       "  <tbody>\n",
       "    <tr>\n",
       "      <th>930</th>\n",
       "      <td>561-8322600</td>\n",
       "      <td>FL</td>\n",
       "    </tr>\n",
       "    <tr>\n",
       "      <th>1072</th>\n",
       "      <td>561-8322600</td>\n",
       "      <td>FL</td>\n",
       "    </tr>\n",
       "  </tbody>\n",
       "</table>\n",
       "</div>"
      ],
      "text/plain": [
       "             city state\n",
       "930   561-8322600    FL\n",
       "1072  561-8322600    FL"
      ]
     },
     "execution_count": 32,
     "metadata": {},
     "output_type": "execute_result"
    }
   ],
   "source": [
    "# Figure out city 561 belongs to.\n",
    "city_state[city_state['city'].str.contains('561', case=False, na=False)]"
   ]
  },
  {
   "cell_type": "markdown",
   "metadata": {},
   "source": [
    "Let's fix those typos. Our first pass will use the `pd.DataFrame.replace` method, taking in a dictionary with the correct spellings. We'll change the data in the following ways:\n",
    "\n",
    "- `S61-8322600` and `561-8322600` will become `West Palm Beach`, FL.\n",
    "- `Bedminister` will become `Bedminster` (as in Bedminster, NJ).\n",
    "- `Las Veagas` will become `Vegas` (as in Las Vegas, NV).\n",
    "- `Moorseville` will become `Mooresville` (as in Mooresville, NC)."
   ]
  },
  {
   "cell_type": "code",
   "execution_count": 33,
   "metadata": {},
   "outputs": [
    {
     "data": {
      "text/plain": [
       "0                New York\n",
       "1              Hicksville\n",
       "2         West Palm Beach\n",
       "3               Las Vegas\n",
       "4              Washington\n",
       "5                   Miami\n",
       "6                 Chicago\n",
       "7         Charlottesville\n",
       "8                 Jupiter\n",
       "9              Bedminster\n",
       "10       Briarcliff Manor\n",
       "11            Mooresville\n",
       "12          Potomac Falls\n",
       "13                  Doral\n",
       "14               Sterling\n",
       "15             Las Veagas\n",
       "16              Lafayette\n",
       "17    Rancho Palos Verdes\n",
       "18             Palm Beach\n",
       "19              Bradenton\n",
       "20               Honolulu\n",
       "21              Turnberry\n",
       "22            Panama City\n",
       "23                    NaN\n",
       "24              Vancouver\n",
       "25               Doonberg\n",
       "26          San Francisco\n",
       "27           Rancho Palos\n",
       "dtype: object"
      ]
     },
     "execution_count": 33,
     "metadata": {},
     "output_type": "execute_result"
    }
   ],
   "source": [
    "# Replace typoes.\n",
    "df['city'] = df['city'].replace({\n",
    "    \"S61-8322600\": \"West Palm Beach\",\n",
    "    \"561-8322600\": \"West Palm Beach\",\n",
    "    \"Bedminister\": \"Bedminster\",\n",
    "    \"Moorseville\": \"Mooresville\"\n",
    "})\n",
    "\n",
    "# Update unique feature values\n",
    "unique_features['city'] = pd.Series(df['city'].unique())\n",
    "unique_features['city']"
   ]
  },
  {
   "cell_type": "code",
   "execution_count": 34,
   "metadata": {},
   "outputs": [
    {
     "data": {
      "text/plain": [
       "count           1160\n",
       "unique            27\n",
       "top       Washington\n",
       "freq             350\n",
       "Name: city, dtype: object"
      ]
     },
     "execution_count": 34,
     "metadata": {},
     "output_type": "execute_result"
    }
   ],
   "source": [
    "df['city'].describe()"
   ]
  },
  {
   "cell_type": "markdown",
   "metadata": {},
   "source": [
    "Now we know there are 27 unique cities."
   ]
  },
  {
   "cell_type": "markdown",
   "metadata": {
    "slideshow": {
     "slide_type": "slide"
    }
   },
   "source": [
    "### 10. state"
   ]
  },
  {
   "cell_type": "code",
   "execution_count": 35,
   "metadata": {},
   "outputs": [
    {
     "data": {
      "text/plain": [
       "0     British Columbia\n",
       "1                   CA\n",
       "2                   DC\n",
       "3                   FL\n",
       "4                   HI\n",
       "5                   IL\n",
       "6              Ireland\n",
       "7                   LA\n",
       "8                   NC\n",
       "9                   NJ\n",
       "10                  NV\n",
       "11                  NY\n",
       "12              Panama\n",
       "13            Scotland\n",
       "14                  VA\n",
       "15                 NaN\n",
       "dtype: object"
      ]
     },
     "execution_count": 35,
     "metadata": {},
     "output_type": "execute_result"
    }
   ],
   "source": [
    "unique_features['state']"
   ]
  },
  {
   "cell_type": "code",
   "execution_count": 36,
   "metadata": {
    "scrolled": true
   },
   "outputs": [
    {
     "data": {
      "text/plain": [
       "count     1158\n",
       "unique      15\n",
       "top         NY\n",
       "freq       394\n",
       "Name: state, dtype: object"
      ]
     },
     "execution_count": 36,
     "metadata": {},
     "output_type": "execute_result"
    }
   ],
   "source": [
    "df['state'].describe()"
   ]
  },
  {
   "cell_type": "markdown",
   "metadata": {},
   "source": [
    "## Charting Data\n",
    "\n",
    "*Are there trends we can visualize?*\n",
    "\n",
    "A good starting point is with a time-series plotting transactions over time."
   ]
  },
  {
   "cell_type": "code",
   "execution_count": 37,
   "metadata": {},
   "outputs": [
    {
     "name": "stdout",
     "output_type": "stream",
     "text": [
      "<class 'pandas.core.frame.DataFrame'>\n",
      "RangeIndex: 1193 entries, 0 to 1192\n",
      "Data columns (total 2 columns):\n",
      " #   Column  Non-Null Count  Dtype         \n",
      "---  ------  --------------  -----         \n",
      " 0   date    1188 non-null   datetime64[ns]\n",
      " 1   amount  1193 non-null   float64       \n",
      "dtypes: datetime64[ns](1), float64(1)\n",
      "memory usage: 18.8 KB\n"
     ]
    }
   ],
   "source": [
    "# Get special table that just lists the date and the amount.\n",
    "ts_amount = df[['date','amount']]\n",
    "ts_amount.info()"
   ]
  },
  {
   "cell_type": "code",
   "execution_count": 38,
   "metadata": {},
   "outputs": [
    {
     "data": {
      "text/html": [
       "<div>\n",
       "<style scoped>\n",
       "    .dataframe tbody tr th:only-of-type {\n",
       "        vertical-align: middle;\n",
       "    }\n",
       "\n",
       "    .dataframe tbody tr th {\n",
       "        vertical-align: top;\n",
       "    }\n",
       "\n",
       "    .dataframe thead th {\n",
       "        text-align: right;\n",
       "    }\n",
       "</style>\n",
       "<table border=\"1\" class=\"dataframe\">\n",
       "  <thead>\n",
       "    <tr style=\"text-align: right;\">\n",
       "      <th></th>\n",
       "      <th>amount</th>\n",
       "    </tr>\n",
       "    <tr>\n",
       "      <th>date</th>\n",
       "      <th></th>\n",
       "    </tr>\n",
       "  </thead>\n",
       "  <tbody>\n",
       "    <tr>\n",
       "      <th>2015-04-30</th>\n",
       "      <td>1380.54</td>\n",
       "    </tr>\n",
       "    <tr>\n",
       "      <th>2015-05-03</th>\n",
       "      <td>1303.46</td>\n",
       "    </tr>\n",
       "    <tr>\n",
       "      <th>2015-05-05</th>\n",
       "      <td>9583.33</td>\n",
       "    </tr>\n",
       "    <tr>\n",
       "      <th>2015-06-16</th>\n",
       "      <td>557303.33</td>\n",
       "    </tr>\n",
       "    <tr>\n",
       "      <th>2015-06-17</th>\n",
       "      <td>814.24</td>\n",
       "    </tr>\n",
       "    <tr>\n",
       "      <th>...</th>\n",
       "      <td>...</td>\n",
       "    </tr>\n",
       "    <tr>\n",
       "      <th>2018-04-30</th>\n",
       "      <td>861.77</td>\n",
       "    </tr>\n",
       "    <tr>\n",
       "      <th>2018-05-01</th>\n",
       "      <td>1635.10</td>\n",
       "    </tr>\n",
       "    <tr>\n",
       "      <th>2018-05-02</th>\n",
       "      <td>247.90</td>\n",
       "    </tr>\n",
       "    <tr>\n",
       "      <th>2018-05-03</th>\n",
       "      <td>1737.04</td>\n",
       "    </tr>\n",
       "    <tr>\n",
       "      <th>2018-05-08</th>\n",
       "      <td>21835.63</td>\n",
       "    </tr>\n",
       "  </tbody>\n",
       "</table>\n",
       "<p>512 rows × 1 columns</p>\n",
       "</div>"
      ],
      "text/plain": [
       "              amount\n",
       "date                \n",
       "2015-04-30   1380.54\n",
       "2015-05-03   1303.46\n",
       "2015-05-05   9583.33\n",
       "2015-06-16 557303.33\n",
       "2015-06-17    814.24\n",
       "...              ...\n",
       "2018-04-30    861.77\n",
       "2018-05-01   1635.10\n",
       "2018-05-02    247.90\n",
       "2018-05-03   1737.04\n",
       "2018-05-08  21835.63\n",
       "\n",
       "[512 rows x 1 columns]"
      ]
     },
     "execution_count": 38,
     "metadata": {},
     "output_type": "execute_result"
    }
   ],
   "source": [
    "# Groupby date.\n",
    "date_idx = ts_amount['date']\n",
    "date_amount = ts_amount.groupby(date_idx).sum()\n",
    "date_amount"
   ]
  },
  {
   "cell_type": "code",
   "execution_count": 39,
   "metadata": {},
   "outputs": [
    {
     "data": {
      "text/plain": [
       "<matplotlib.legend.Legend at 0x1dd2bc4af10>"
      ]
     },
     "execution_count": 39,
     "metadata": {},
     "output_type": "execute_result"
    },
    {
     "data": {
      "image/png": "[encoded data removed]",
      "text/plain": [
       "<Figure size 1440x576 with 1 Axes>"
      ]
     },
     "metadata": {
      "needs_background": "light"
     },
     "output_type": "display_data"
    }
   ],
   "source": [
    "# Plot figure/grid.\n",
    "fig, ax = plt.subplots(figsize=(20,8))\n",
    "plt.style.use('seaborn')\n",
    "\n",
    "# date_amount.plot(ax=ax, alpha=0.5, style='-')\n",
    "date_amount.resample('W').sum().plot(ax=ax, style='-')\n",
    "date_amount.resample('M').sum().plot(ax=ax, style='--')\n",
    "ax.legend(['Weekly', 'Monthly'])"
   ]
  },
  {
   "cell_type": "markdown",
   "metadata": {},
   "source": [
    "What about organizing payments by payers?"
   ]
  },
  {
   "cell_type": "code",
   "execution_count": 40,
   "metadata": {},
   "outputs": [
    {
     "data": {
      "text/html": [
       "<div>\n",
       "<style scoped>\n",
       "    .dataframe tbody tr th:only-of-type {\n",
       "        vertical-align: middle;\n",
       "    }\n",
       "\n",
       "    .dataframe tbody tr th {\n",
       "        vertical-align: top;\n",
       "    }\n",
       "\n",
       "    .dataframe thead th {\n",
       "        text-align: right;\n",
       "    }\n",
       "</style>\n",
       "<table border=\"1\" class=\"dataframe\">\n",
       "  <thead>\n",
       "    <tr style=\"text-align: right;\">\n",
       "      <th></th>\n",
       "      <th>date</th>\n",
       "      <th>purpose_scrubbed</th>\n",
       "      <th>amount</th>\n",
       "    </tr>\n",
       "  </thead>\n",
       "  <tbody>\n",
       "    <tr>\n",
       "      <th>0</th>\n",
       "      <td>2015-04-30</td>\n",
       "      <td>Lodging</td>\n",
       "      <td>1380.54</td>\n",
       "    </tr>\n",
       "    <tr>\n",
       "      <th>1</th>\n",
       "      <td>2015-05-05</td>\n",
       "      <td>Rent</td>\n",
       "      <td>9583.33</td>\n",
       "    </tr>\n",
       "    <tr>\n",
       "      <th>2</th>\n",
       "      <td>2015-06-16</td>\n",
       "      <td>Event</td>\n",
       "      <td>37993.04</td>\n",
       "    </tr>\n",
       "    <tr>\n",
       "      <th>3</th>\n",
       "      <td>2015-06-16</td>\n",
       "      <td>Lodging</td>\n",
       "      <td>3240.96</td>\n",
       "    </tr>\n",
       "    <tr>\n",
       "      <th>4</th>\n",
       "      <td>2015-06-16</td>\n",
       "      <td>Rent</td>\n",
       "      <td>9583.33</td>\n",
       "    </tr>\n",
       "    <tr>\n",
       "      <th>...</th>\n",
       "      <td>...</td>\n",
       "      <td>...</td>\n",
       "      <td>...</td>\n",
       "    </tr>\n",
       "    <tr>\n",
       "      <th>1188</th>\n",
       "      <td>NaT</td>\n",
       "      <td>Other</td>\n",
       "      <td>5583.13</td>\n",
       "    </tr>\n",
       "    <tr>\n",
       "      <th>1189</th>\n",
       "      <td>NaT</td>\n",
       "      <td>Other</td>\n",
       "      <td>4853.29</td>\n",
       "    </tr>\n",
       "    <tr>\n",
       "      <th>1190</th>\n",
       "      <td>NaT</td>\n",
       "      <td>Other</td>\n",
       "      <td>10398.33</td>\n",
       "    </tr>\n",
       "    <tr>\n",
       "      <th>1191</th>\n",
       "      <td>NaT</td>\n",
       "      <td>Other</td>\n",
       "      <td>592.13</td>\n",
       "    </tr>\n",
       "    <tr>\n",
       "      <th>1192</th>\n",
       "      <td>2017-01-24</td>\n",
       "      <td>Other</td>\n",
       "      <td>103.25</td>\n",
       "    </tr>\n",
       "  </tbody>\n",
       "</table>\n",
       "<p>1193 rows × 3 columns</p>\n",
       "</div>"
      ],
      "text/plain": [
       "           date purpose_scrubbed   amount\n",
       "0    2015-04-30          Lodging  1380.54\n",
       "1    2015-05-05             Rent  9583.33\n",
       "2    2015-06-16            Event 37993.04\n",
       "3    2015-06-16          Lodging  3240.96\n",
       "4    2015-06-16             Rent  9583.33\n",
       "...         ...              ...      ...\n",
       "1188        NaT            Other  5583.13\n",
       "1189        NaT            Other  4853.29\n",
       "1190        NaT            Other 10398.33\n",
       "1191        NaT            Other   592.13\n",
       "1192 2017-01-24            Other   103.25\n",
       "\n",
       "[1193 rows x 3 columns]"
      ]
     },
     "execution_count": 40,
     "metadata": {},
     "output_type": "execute_result"
    }
   ],
   "source": [
    "df[['date', 'purpose_scrubbed', 'amount']]"
   ]
  },
  {
   "cell_type": "code",
   "execution_count": 41,
   "metadata": {},
   "outputs": [
    {
     "data": {
      "text/html": [
       "<div>\n",
       "<style scoped>\n",
       "    .dataframe tbody tr th:only-of-type {\n",
       "        vertical-align: middle;\n",
       "    }\n",
       "\n",
       "    .dataframe tbody tr th {\n",
       "        vertical-align: top;\n",
       "    }\n",
       "\n",
       "    .dataframe thead th {\n",
       "        text-align: right;\n",
       "    }\n",
       "</style>\n",
       "<table border=\"1\" class=\"dataframe\">\n",
       "  <thead>\n",
       "    <tr style=\"text-align: right;\">\n",
       "      <th></th>\n",
       "      <th></th>\n",
       "      <th>amount</th>\n",
       "    </tr>\n",
       "    <tr>\n",
       "      <th>date</th>\n",
       "      <th>purpose_scrubbed</th>\n",
       "      <th></th>\n",
       "    </tr>\n",
       "  </thead>\n",
       "  <tbody>\n",
       "    <tr>\n",
       "      <th>2015-04-30</th>\n",
       "      <th>Lodging</th>\n",
       "      <td>1380.54</td>\n",
       "    </tr>\n",
       "    <tr>\n",
       "      <th>2015-05-03</th>\n",
       "      <th>Event</th>\n",
       "      <td>1303.46</td>\n",
       "    </tr>\n",
       "    <tr>\n",
       "      <th>2015-05-05</th>\n",
       "      <th>Rent</th>\n",
       "      <td>9583.33</td>\n",
       "    </tr>\n",
       "    <tr>\n",
       "      <th rowspan=\"2\" valign=\"top\">2015-06-16</th>\n",
       "      <th>Event</th>\n",
       "      <td>37993.04</td>\n",
       "    </tr>\n",
       "    <tr>\n",
       "      <th>Lodging</th>\n",
       "      <td>3240.96</td>\n",
       "    </tr>\n",
       "    <tr>\n",
       "      <th>...</th>\n",
       "      <th>...</th>\n",
       "      <td>...</td>\n",
       "    </tr>\n",
       "    <tr>\n",
       "      <th>2018-04-30</th>\n",
       "      <th>Lodging</th>\n",
       "      <td>686.50</td>\n",
       "    </tr>\n",
       "    <tr>\n",
       "      <th>2018-05-01</th>\n",
       "      <th>Food</th>\n",
       "      <td>1635.10</td>\n",
       "    </tr>\n",
       "    <tr>\n",
       "      <th>2018-05-02</th>\n",
       "      <th>Lodging</th>\n",
       "      <td>247.90</td>\n",
       "    </tr>\n",
       "    <tr>\n",
       "      <th>2018-05-03</th>\n",
       "      <th>Lodging</th>\n",
       "      <td>1737.04</td>\n",
       "    </tr>\n",
       "    <tr>\n",
       "      <th>2018-05-08</th>\n",
       "      <th>Event</th>\n",
       "      <td>21835.63</td>\n",
       "    </tr>\n",
       "  </tbody>\n",
       "</table>\n",
       "<p>766 rows × 1 columns</p>\n",
       "</div>"
      ],
      "text/plain": [
       "                              amount\n",
       "date       purpose_scrubbed         \n",
       "2015-04-30 Lodging           1380.54\n",
       "2015-05-03 Event             1303.46\n",
       "2015-05-05 Rent              9583.33\n",
       "2015-06-16 Event            37993.04\n",
       "           Lodging           3240.96\n",
       "...                              ...\n",
       "2018-04-30 Lodging            686.50\n",
       "2018-05-01 Food              1635.10\n",
       "2018-05-02 Lodging            247.90\n",
       "2018-05-03 Lodging           1737.04\n",
       "2018-05-08 Event            21835.63\n",
       "\n",
       "[766 rows x 1 columns]"
      ]
     },
     "execution_count": 41,
     "metadata": {},
     "output_type": "execute_result"
    }
   ],
   "source": [
    "df2 = df.groupby(['date', 'purpose_scrubbed'])\n",
    "df2.sum()"
   ]
  },
  {
   "cell_type": "code",
   "execution_count": 42,
   "metadata": {},
   "outputs": [
    {
     "data": {
      "text/plain": [
       "count     8.00\n",
       "mean    149.12\n",
       "std     138.52\n",
       "min       7.00\n",
       "25%      68.00\n",
       "50%     100.00\n",
       "75%     181.00\n",
       "max     438.00\n",
       "Name: amount, dtype: float64"
      ]
     },
     "execution_count": 42,
     "metadata": {},
     "output_type": "execute_result"
    },
    {
     "data": {
      "image/png": "[encoded data removed]",
      "text/plain": [
       "<Figure size 864x720 with 1 Axes>"
      ]
     },
     "metadata": {},
     "output_type": "display_data"
    }
   ],
   "source": [
    "# Prepare data to graph.\n",
    "df_purpose = df.groupby(['purpose_scrubbed']).count()['amount'].sort_values()\n",
    "\n",
    "# Plot figure/grid.\n",
    "fig, ax = plt.subplots(figsize=(12,10))\n",
    "\n",
    "# Plot the chart.\n",
    "df_purpose.plot.barh(ax=ax)\n",
    "\n",
    "# Style the plot.\n",
    "ax.set_xlabel('# Transactions')\n",
    "ax.set_ylabel('Purpose')\n",
    "ax.set_title('# Transactions by Purpose')\n",
    "ax.grid(True)\n",
    "\n",
    "# Describe the data.\n",
    "df_purpose.describe()"
   ]
  },
  {
   "cell_type": "code",
   "execution_count": 43,
   "metadata": {},
   "outputs": [
    {
     "data": {
      "text/plain": [
       "count    36.00\n",
       "mean     33.14\n",
       "std      52.59\n",
       "min       1.00\n",
       "25%       6.00\n",
       "50%      11.50\n",
       "75%      39.25\n",
       "max     267.00\n",
       "Name: amount, dtype: float64"
      ]
     },
     "execution_count": 43,
     "metadata": {},
     "output_type": "execute_result"
    },
    {
     "data": {
      "image/png": "[encoded data removed]",
      "text/plain": [
       "<Figure size 720x1440 with 1 Axes>"
      ]
     },
     "metadata": {},
     "output_type": "display_data"
    }
   ],
   "source": [
    "# Prepare data to graph.\n",
    "df_purpose = df.groupby(['property_scrubbed']).count()['amount'].sort_values(ascending=False)\n",
    "\n",
    "# Plot figure/grid.\n",
    "fig, ax = plt.subplots(figsize=(10,20))\n",
    "\n",
    "# Plot the chart.\n",
    "df_purpose.plot.barh(ax=ax)\n",
    "\n",
    "# Style the plot.\n",
    "ax.set_xlabel('# Transactions')\n",
    "ax.set_ylabel('Property')\n",
    "ax.set_title('# Transactions by Payee')\n",
    "ax.grid(True)\n",
    "\n",
    "# Describe the data.\n",
    "df_purpose.describe()"
   ]
  }
 ],
 "metadata": {
  "kernelspec": {
   "display_name": "Python 3",
   "language": "python",
   "name": "python3"
  },
  "language_info": {
   "codemirror_mode": {
    "name": "ipython",
    "version": 3
   },
   "file_extension": ".py",
   "mimetype": "text/x-python",
   "name": "python",
   "nbconvert_exporter": "python",
   "pygments_lexer": "ipython3",
   "version": "3.8.8"
  }
 },
 "nbformat": 4,
 "nbformat_minor": 2
}
